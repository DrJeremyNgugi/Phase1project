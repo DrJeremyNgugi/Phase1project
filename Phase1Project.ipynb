{
 "cells": [
  {
   "cell_type": "markdown",
   "metadata": {},
   "source": [
    "# PHASE 1 PROJECT"
   ]
  },
  {
   "cell_type": "markdown",
   "metadata": {},
   "source": [
    "# IMPORTING MODULES"
   ]
  },
  {
   "cell_type": "code",
   "execution_count": 8,
   "metadata": {},
   "outputs": [],
   "source": [
    "import pandas as pd\n",
    "\n",
    "import sqlite3"
   ]
  },
  {
   "cell_type": "markdown",
   "metadata": {},
   "source": [
    "# LOADING DATASETS"
   ]
  },
  {
   "cell_type": "code",
   "execution_count": 9,
   "metadata": {
    "scrolled": true
   },
   "outputs": [
    {
     "name": "stdout",
     "output_type": "stream",
     "text": [
      "                                         title studio  domestic_gross  \\\n",
      "0                                  Toy Story 3     BV     415000000.0   \n",
      "1                   Alice in Wonderland (2010)     BV     334200000.0   \n",
      "2  Harry Potter and the Deathly Hallows Part 1     WB     296000000.0   \n",
      "3                                    Inception     WB     292600000.0   \n",
      "4                          Shrek Forever After   P/DW     238700000.0   \n",
      "\n",
      "  foreign_gross  year  \n",
      "0     652000000  2010  \n",
      "1     691300000  2010  \n",
      "2     664300000  2010  \n",
      "3     535700000  2010  \n",
      "4     513900000  2010  \n"
     ]
    }
   ],
   "source": [
    "file_path1= 'bom.movie_gross.csv'\n",
    "\n",
    "df1= pd.read_csv(file_path1)\n",
    "\n",
    "print(df1.head())"
   ]
  },
  {
   "cell_type": "code",
   "execution_count": 10,
   "metadata": {},
   "outputs": [
    {
     "name": "stdout",
     "output_type": "stream",
     "text": [
      "   id                                           synopsis rating  \\\n",
      "0   1  This gritty, fast-paced, and innovative police...      R   \n",
      "1   3  New York City, not-too-distant-future: Eric Pa...      R   \n",
      "2   5  Illeana Douglas delivers a superb performance ...      R   \n",
      "3   6  Michael Douglas runs afoul of a treacherous su...      R   \n",
      "4   7                                                NaN     NR   \n",
      "\n",
      "                                 genre          director  \\\n",
      "0  Action and Adventure|Classics|Drama  William Friedkin   \n",
      "1    Drama|Science Fiction and Fantasy  David Cronenberg   \n",
      "2    Drama|Musical and Performing Arts    Allison Anders   \n",
      "3           Drama|Mystery and Suspense    Barry Levinson   \n",
      "4                        Drama|Romance    Rodney Bennett   \n",
      "\n",
      "                            writer  theater_date      dvd_date currency  \\\n",
      "0                   Ernest Tidyman   Oct 9, 1971  Sep 25, 2001      NaN   \n",
      "1     David Cronenberg|Don DeLillo  Aug 17, 2012   Jan 1, 2013        $   \n",
      "2                   Allison Anders  Sep 13, 1996  Apr 18, 2000      NaN   \n",
      "3  Paul Attanasio|Michael Crichton   Dec 9, 1994  Aug 27, 1997      NaN   \n",
      "4                     Giles Cooper           NaN           NaN      NaN   \n",
      "\n",
      "  box_office      runtime             studio  \n",
      "0        NaN  104 minutes                NaN  \n",
      "1    600,000  108 minutes  Entertainment One  \n",
      "2        NaN  116 minutes                NaN  \n",
      "3        NaN  128 minutes                NaN  \n",
      "4        NaN  200 minutes                NaN  \n"
     ]
    }
   ],
   "source": [
    "file_path2= 'rt.movie_info.tsv'\n",
    "\n",
    "df2= pd.read_csv(file_path2, sep='\\t', encoding='latin-1')\n",
    "\n",
    "print(df2.head())"
   ]
  },
  {
   "cell_type": "code",
   "execution_count": 67,
   "metadata": {},
   "outputs": [
    {
     "name": "stdout",
     "output_type": "stream",
     "text": [
      "   id                                             review rating   fresh  \\\n",
      "0   3  A distinctly gallows take on contemporary fina...    3/5   fresh   \n",
      "1   3  It's an allegory in search of a meaning that n...    NaN  rotten   \n",
      "2   3  ... life lived in a bubble in financial dealin...    NaN   fresh   \n",
      "3   3  Continuing along a line introduced in last yea...    NaN   fresh   \n",
      "4   3             ... a perverse twist on neorealism...     NaN   fresh   \n",
      "\n",
      "           critic  top_critic         publisher               date  \n",
      "0      PJ Nabarro           0   Patrick Nabarro  November 10, 2018  \n",
      "1  Annalee Newitz           0           io9.com       May 23, 2018  \n",
      "2    Sean Axmaker           0  Stream on Demand    January 4, 2018  \n",
      "3   Daniel Kasman           0              MUBI  November 16, 2017  \n",
      "4             NaN           0      Cinema Scope   October 12, 2017  \n"
     ]
    }
   ],
   "source": [
    "file_path3= 'rt.reviews.tsv'\n",
    "\n",
    "df3= pd.read_csv(file_path3, sep='\\t', encoding='latin-1')\n",
    "\n",
    "print(df3.head())"
   ]
  },
  {
   "cell_type": "code",
   "execution_count": 12,
   "metadata": {},
   "outputs": [
    {
     "name": "stdout",
     "output_type": "stream",
     "text": [
      "Tables in the database:\n",
      "movie_basics\n",
      "directors\n",
      "known_for\n",
      "movie_akas\n",
      "movie_ratings\n",
      "persons\n",
      "principals\n",
      "writers\n"
     ]
    }
   ],
   "source": [
    "conn= sqlite3.connect('im.db')\n",
    "\n",
    "cursor= conn.cursor()\n",
    "\n",
    "cursor.execute(\"SELECT name FROM sqlite_master WHERE type='table';\")\n",
    "\n",
    "table_names= cursor.fetchall()\n",
    "\n",
    "conn.close()\n",
    "\n",
    "print(\"Tables in the database:\")\n",
    "for table_name in table_names:\n",
    "    print(table_name[0])"
   ]
  },
  {
   "cell_type": "code",
   "execution_count": 13,
   "metadata": {},
   "outputs": [
    {
     "name": "stdout",
     "output_type": "stream",
     "text": [
      "     movie_id  averagerating  numvotes\n",
      "0  tt10356526            8.3        31\n",
      "1  tt10384606            8.9       559\n",
      "2   tt1042974            6.4        20\n",
      "3   tt1043726            4.2     50352\n",
      "4   tt1060240            6.5        21\n"
     ]
    }
   ],
   "source": [
    "conn= sqlite3.connect('im.db')\n",
    "\n",
    "tables_to_extract= ['movie_basics','movie_ratings']\n",
    "\n",
    "dfs={}\n",
    "\n",
    "for table_name in tables_to_extract:\n",
    "    sql_query= f\"SELECT* FROM {table_name}\"\n",
    "    \n",
    "    dfs[table_name]= pd.read_sql(sql_query, conn)\n",
    "    \n",
    "conn.close()\n",
    "\n",
    "df4= dfs['movie_ratings']\n",
    "df5= dfs['movie_basics']\n",
    "\n",
    "print(df4.head())"
   ]
  },
  {
   "cell_type": "code",
   "execution_count": 14,
   "metadata": {},
   "outputs": [
    {
     "name": "stdout",
     "output_type": "stream",
     "text": [
      "\n",
      "DataFrame for 'movie_basics':\n",
      "    movie_id                    primary_title              original_title  \\\n",
      "0  tt0063540                        Sunghursh                   Sunghursh   \n",
      "1  tt0066787  One Day Before the Rainy Season             Ashad Ka Ek Din   \n",
      "2  tt0069049       The Other Side of the Wind  The Other Side of the Wind   \n",
      "3  tt0069204                  Sabse Bada Sukh             Sabse Bada Sukh   \n",
      "4  tt0100275         The Wandering Soap Opera       La Telenovela Errante   \n",
      "\n",
      "   start_year  runtime_minutes                genres  \n",
      "0        2013            175.0    Action,Crime,Drama  \n",
      "1        2019            114.0       Biography,Drama  \n",
      "2        2018            122.0                 Drama  \n",
      "3        2018              NaN          Comedy,Drama  \n",
      "4        2017             80.0  Comedy,Drama,Fantasy  \n"
     ]
    }
   ],
   "source": [
    "print(\"\\nDataFrame for 'movie_basics':\")\n",
    "print(df5.head())"
   ]
  },
  {
   "cell_type": "markdown",
   "metadata": {},
   "source": [
    "# DATA CLEANING"
   ]
  },
  {
   "cell_type": "markdown",
   "metadata": {},
   "source": [
    "# DF1"
   ]
  },
  {
   "cell_type": "code",
   "execution_count": 37,
   "metadata": {},
   "outputs": [
    {
     "name": "stdout",
     "output_type": "stream",
     "text": [
      "<class 'pandas.core.frame.DataFrame'>\n",
      "RangeIndex: 3387 entries, 0 to 3386\n",
      "Data columns (total 5 columns):\n",
      " #   Column          Non-Null Count  Dtype         \n",
      "---  ------          --------------  -----         \n",
      " 0   title           3387 non-null   object        \n",
      " 1   studio          3387 non-null   object        \n",
      " 2   domestic_gross  3387 non-null   float64       \n",
      " 3   foreign_gross   2037 non-null   float64       \n",
      " 4   year            3387 non-null   datetime64[ns]\n",
      "dtypes: datetime64[ns](1), float64(2), object(2)\n",
      "memory usage: 132.4+ KB\n"
     ]
    }
   ],
   "source": [
    "df1.info()"
   ]
  },
  {
   "cell_type": "markdown",
   "metadata": {},
   "source": [
    "We will deal with the missing values and drop duplicates as well as change the year data type to date-time format"
   ]
  },
  {
   "cell_type": "code",
   "execution_count": 38,
   "metadata": {},
   "outputs": [
    {
     "name": "stdout",
     "output_type": "stream",
     "text": [
      "<class 'pandas.core.frame.DataFrame'>\n",
      "Int64Index: 2037 entries, 0 to 3353\n",
      "Data columns (total 5 columns):\n",
      " #   Column          Non-Null Count  Dtype         \n",
      "---  ------          --------------  -----         \n",
      " 0   title           2037 non-null   object        \n",
      " 1   studio          2037 non-null   object        \n",
      " 2   domestic_gross  2037 non-null   float64       \n",
      " 3   foreign_gross   2037 non-null   float64       \n",
      " 4   year            2037 non-null   datetime64[ns]\n",
      "dtypes: datetime64[ns](1), float64(2), object(2)\n",
      "memory usage: 95.5+ KB\n"
     ]
    }
   ],
   "source": [
    "#Dealing with missing values\n",
    "\n",
    "df1['studio'].fillna('unknown', inplace=True)\n",
    "df1['domestic_gross'].fillna(df1['domestic_gross'].mean(), inplace=True)\n",
    "\n",
    "#Converting foreign gross to numeric\n",
    "\n",
    "df1['foreign_gross']= pd.to_numeric(df1['foreign_gross'].astype(str).str.replace(',', ''), errors='coerce')\n",
    "\n",
    "#Converting year to datetime format\n",
    "\n",
    "df1['year']= pd.to_datetime(df1['year'], format='%Y', errors= 'coerce')\n",
    "\n",
    "#Removing duplicates\n",
    "\n",
    "df1_cleaned= df1.dropna().drop_duplicates()\n",
    "\n",
    "df1_cleaned.info()"
   ]
  },
  {
   "cell_type": "markdown",
   "metadata": {},
   "source": [
    "# DF2"
   ]
  },
  {
   "cell_type": "code",
   "execution_count": 17,
   "metadata": {
    "scrolled": true
   },
   "outputs": [
    {
     "name": "stdout",
     "output_type": "stream",
     "text": [
      "<class 'pandas.core.frame.DataFrame'>\n",
      "RangeIndex: 1560 entries, 0 to 1559\n",
      "Data columns (total 12 columns):\n",
      " #   Column        Non-Null Count  Dtype \n",
      "---  ------        --------------  ----- \n",
      " 0   id            1560 non-null   int64 \n",
      " 1   synopsis      1498 non-null   object\n",
      " 2   rating        1557 non-null   object\n",
      " 3   genre         1552 non-null   object\n",
      " 4   director      1361 non-null   object\n",
      " 5   writer        1111 non-null   object\n",
      " 6   theater_date  1201 non-null   object\n",
      " 7   dvd_date      1201 non-null   object\n",
      " 8   currency      340 non-null    object\n",
      " 9   box_office    340 non-null    object\n",
      " 10  runtime       1530 non-null   object\n",
      " 11  studio        494 non-null    object\n",
      "dtypes: int64(1), object(11)\n",
      "memory usage: 146.4+ KB\n"
     ]
    }
   ],
   "source": [
    "df2.info()"
   ]
  },
  {
   "cell_type": "markdown",
   "metadata": {},
   "source": [
    "There are missing values and wrong data types for box office, theatre date and run time"
   ]
  },
  {
   "cell_type": "code",
   "execution_count": 58,
   "metadata": {},
   "outputs": [
    {
     "name": "stdout",
     "output_type": "stream",
     "text": [
      "<class 'pandas.core.frame.DataFrame'>\n",
      "Int64Index: 1073 entries, 0 to 1558\n",
      "Data columns (total 12 columns):\n",
      " #   Column        Non-Null Count  Dtype         \n",
      "---  ------        --------------  -----         \n",
      " 0   id            1073 non-null   int64         \n",
      " 1   synopsis      1073 non-null   object        \n",
      " 2   rating        1073 non-null   object        \n",
      " 3   genre         1073 non-null   object        \n",
      " 4   director      1073 non-null   object        \n",
      " 5   writer        881 non-null    object        \n",
      " 6   theater_date  1073 non-null   datetime64[ns]\n",
      " 7   dvd_date      1073 non-null   datetime64[ns]\n",
      " 8   currency      293 non-null    object        \n",
      " 9   box_office    293 non-null    float64       \n",
      " 10  runtime       0 non-null      float64       \n",
      " 11  studio        1073 non-null   object        \n",
      "dtypes: datetime64[ns](2), float64(2), int64(1), object(7)\n",
      "memory usage: 109.0+ KB\n"
     ]
    }
   ],
   "source": [
    "#Drop rows with missing values in the following columns:\n",
    "\n",
    "columns= ['synopsis', 'rating', 'genre', 'director', 'theater_date', 'dvd_date', 'runtime']\n",
    "\n",
    "df2_cleaned= df2.dropna(subset=columns).copy()\n",
    "\n",
    "#Fill studio missing value with 'Unknown'\n",
    "\n",
    "df2_cleaned['studio'].fillna('Unknown', inplace=True)\n",
    "\n",
    "#Converting data types\n",
    "\n",
    "df2_cleaned['box_office']= pd.to_numeric(df2_cleaned['box_office'].str.replace(',', ''), errors='coerce')\n",
    "\n",
    "df2_cleaned['theater_date']= pd.to_datetime(df2_cleaned['theater_date'], errors='coerce')\n",
    "\n",
    "df2_cleaned['dvd_date']= pd.to_datetime(df2_cleaned['dvd_date'], errors='coerce')\n",
    "\n",
    "df2_cleaned['runtime']= pd.to_numeric(df2_cleaned['runtime'], errors='coerce')\n",
    "\n",
    "df2_cleaned.info()"
   ]
  },
  {
   "cell_type": "code",
   "execution_count": null,
   "metadata": {},
   "outputs": [],
   "source": []
  },
  {
   "cell_type": "markdown",
   "metadata": {},
   "source": [
    "# DF3"
   ]
  },
  {
   "cell_type": "code",
   "execution_count": 18,
   "metadata": {},
   "outputs": [
    {
     "name": "stdout",
     "output_type": "stream",
     "text": [
      "<class 'pandas.core.frame.DataFrame'>\n",
      "RangeIndex: 54432 entries, 0 to 54431\n",
      "Data columns (total 8 columns):\n",
      " #   Column      Non-Null Count  Dtype \n",
      "---  ------      --------------  ----- \n",
      " 0   id          54432 non-null  int64 \n",
      " 1   review      48869 non-null  object\n",
      " 2   rating      40915 non-null  object\n",
      " 3   fresh       54432 non-null  object\n",
      " 4   critic      51710 non-null  object\n",
      " 5   top_critic  54432 non-null  int64 \n",
      " 6   publisher   54123 non-null  object\n",
      " 7   date        54432 non-null  object\n",
      "dtypes: int64(2), object(6)\n",
      "memory usage: 3.3+ MB\n"
     ]
    }
   ],
   "source": [
    "df3.info()"
   ]
  },
  {
   "cell_type": "markdown",
   "metadata": {},
   "source": [
    "There is missing data and wrong data types for date and rating"
   ]
  },
  {
   "cell_type": "code",
   "execution_count": 71,
   "metadata": {},
   "outputs": [
    {
     "name": "stdout",
     "output_type": "stream",
     "text": [
      "<class 'pandas.core.frame.DataFrame'>\n",
      "Int64Index: 33988 entries, 0 to 54424\n",
      "Data columns (total 8 columns):\n",
      " #   Column      Non-Null Count  Dtype         \n",
      "---  ------      --------------  -----         \n",
      " 0   id          33988 non-null  int64         \n",
      " 1   review      33988 non-null  object        \n",
      " 2   rating      639 non-null    float64       \n",
      " 3   fresh       33988 non-null  object        \n",
      " 4   critic      33988 non-null  object        \n",
      " 5   top_critic  33988 non-null  int64         \n",
      " 6   publisher   33988 non-null  object        \n",
      " 7   date        33988 non-null  datetime64[ns]\n",
      "dtypes: datetime64[ns](1), float64(1), int64(2), object(4)\n",
      "memory usage: 2.3+ MB\n"
     ]
    }
   ],
   "source": [
    "#Drop missing values in certain columns\n",
    "\n",
    "columns2= ['review', 'rating', 'critic', 'publisher']\n",
    "\n",
    "df3_cleaned= df3.dropna(subset=columns2).copy()\n",
    "\n",
    "#Convert rating and date to the correct data types\n",
    "\n",
    "df3_cleaned['rating']= pd.to_numeric(df3_cleaned['rating'], errors='coerce')\n",
    "\n",
    "df3_cleaned['date']= pd.to_datetime(df3_cleaned['date'], errors='coerce')\n",
    "\n",
    "df3_cleaned['fresh'].unique()\n",
    "\n",
    "df3_cleaned.info()"
   ]
  },
  {
   "cell_type": "markdown",
   "metadata": {},
   "source": [
    "# DS4"
   ]
  },
  {
   "cell_type": "code",
   "execution_count": 19,
   "metadata": {},
   "outputs": [
    {
     "name": "stdout",
     "output_type": "stream",
     "text": [
      "<class 'pandas.core.frame.DataFrame'>\n",
      "RangeIndex: 73856 entries, 0 to 73855\n",
      "Data columns (total 3 columns):\n",
      " #   Column         Non-Null Count  Dtype  \n",
      "---  ------         --------------  -----  \n",
      " 0   movie_id       73856 non-null  object \n",
      " 1   averagerating  73856 non-null  float64\n",
      " 2   numvotes       73856 non-null  int64  \n",
      "dtypes: float64(1), int64(1), object(1)\n",
      "memory usage: 1.7+ MB\n"
     ]
    }
   ],
   "source": [
    "df4.info()"
   ]
  },
  {
   "cell_type": "markdown",
   "metadata": {},
   "source": [
    "This data looks relatively clean\n",
    "We won't do any more cleaning here"
   ]
  },
  {
   "cell_type": "markdown",
   "metadata": {},
   "source": [
    "# DS5"
   ]
  },
  {
   "cell_type": "code",
   "execution_count": 20,
   "metadata": {},
   "outputs": [
    {
     "name": "stdout",
     "output_type": "stream",
     "text": [
      "<class 'pandas.core.frame.DataFrame'>\n",
      "RangeIndex: 146144 entries, 0 to 146143\n",
      "Data columns (total 6 columns):\n",
      " #   Column           Non-Null Count   Dtype  \n",
      "---  ------           --------------   -----  \n",
      " 0   movie_id         146144 non-null  object \n",
      " 1   primary_title    146144 non-null  object \n",
      " 2   original_title   146123 non-null  object \n",
      " 3   start_year       146144 non-null  int64  \n",
      " 4   runtime_minutes  114405 non-null  float64\n",
      " 5   genres           140736 non-null  object \n",
      "dtypes: float64(1), int64(1), object(4)\n",
      "memory usage: 6.7+ MB\n"
     ]
    }
   ],
   "source": [
    "df5.info()"
   ]
  },
  {
   "cell_type": "markdown",
   "metadata": {},
   "source": [
    "The above data has missing values and wrong data types for start year and runtime minutes"
   ]
  },
  {
   "cell_type": "code",
   "execution_count": 79,
   "metadata": {},
   "outputs": [
    {
     "name": "stdout",
     "output_type": "stream",
     "text": [
      "<class 'pandas.core.frame.DataFrame'>\n",
      "Int64Index: 146123 entries, 0 to 146143\n",
      "Data columns (total 6 columns):\n",
      " #   Column           Non-Null Count   Dtype  \n",
      "---  ------           --------------   -----  \n",
      " 0   movie_id         146123 non-null  object \n",
      " 1   primary_title    146123 non-null  object \n",
      " 2   original_title   146123 non-null  object \n",
      " 3   start_year       146123 non-null  int32  \n",
      " 4   runtime_minutes  146123 non-null  float64\n",
      " 5   genres           146123 non-null  object \n",
      "dtypes: float64(1), int32(1), object(4)\n",
      "memory usage: 7.2+ MB\n"
     ]
    }
   ],
   "source": [
    "df5_cleaned= df5.dropna(subset=['original_title']).copy()\n",
    "\n",
    "df5_cleaned['runtime_minutes'].fillna(df5_cleaned['runtime_minutes'].mean(), inplace=True)\n",
    "\n",
    "df5_cleaned['genres'].fillna('Unknown', inplace=True)\n",
    "\n",
    "df5_cleaned['movie_id']= df5_cleaned['movie_id'].astype(str)\n",
    "\n",
    "df5_cleaned['start_year']= df5_cleaned['start_year'].astype(int)\n",
    "\n",
    "df5_cleaned.info()"
   ]
  },
  {
   "cell_type": "code",
   "execution_count": null,
   "metadata": {},
   "outputs": [],
   "source": []
  }
 ],
 "metadata": {
  "kernelspec": {
   "display_name": "Python 3",
   "language": "python",
   "name": "python3"
  },
  "language_info": {
   "codemirror_mode": {
    "name": "ipython",
    "version": 3
   },
   "file_extension": ".py",
   "mimetype": "text/x-python",
   "name": "python",
   "nbconvert_exporter": "python",
   "pygments_lexer": "ipython3",
   "version": "3.8.5"
  }
 },
 "nbformat": 4,
 "nbformat_minor": 4
}
